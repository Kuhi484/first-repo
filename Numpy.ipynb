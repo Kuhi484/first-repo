{
  "nbformat": 4,
  "nbformat_minor": 0,
  "metadata": {
    "colab": {
      "provenance": [],
      "authorship_tag": "ABX9TyOOebIe1x6LsgrrmtbaqL7+",
      "include_colab_link": true
    },
    "kernelspec": {
      "name": "python3",
      "display_name": "Python 3"
    },
    "language_info": {
      "name": "python"
    }
  },
  "cells": [
    {
      "cell_type": "markdown",
      "metadata": {
        "id": "view-in-github",
        "colab_type": "text"
      },
      "source": [
        "<a href=\"https://colab.research.google.com/github/Kuhi484/Machine_Learning_/blob/Basics/Numpy.ipynb\" target=\"_parent\"><img src=\"https://colab.research.google.com/assets/colab-badge.svg\" alt=\"Open In Colab\"/></a>"
      ]
    },
    {
      "cell_type": "code",
      "execution_count": 57,
      "metadata": {
        "id": "ghBRVj5KPYce"
      },
      "outputs": [],
      "source": [
        "import numpy as np"
      ]
    },
    {
      "cell_type": "markdown",
      "source": [
        "Numpy vs List"
      ],
      "metadata": {
        "id": "gS76BqLyWWmx"
      }
    },
    {
      "cell_type": "code",
      "source": [
        "from time import process_time"
      ],
      "metadata": {
        "id": "2_6HaP3_Pjf1"
      },
      "execution_count": 58,
      "outputs": []
    },
    {
      "cell_type": "code",
      "source": [
        "python_list = [i for i in range(10000)]\n",
        "\n",
        "start_time = process_time()\n",
        "\n",
        "python_list = [i+5 for i in range(10000)]\n",
        "\n",
        "end_time = process_time()\n",
        "\n",
        "print(end_time - start_time)"
      ],
      "metadata": {
        "colab": {
          "base_uri": "https://localhost:8080/"
        },
        "id": "w0RedBhwVCxV",
        "outputId": "8e184a63-f2e7-4b32-cfbc-1ed127177191"
      },
      "execution_count": 59,
      "outputs": [
        {
          "output_type": "stream",
          "name": "stdout",
          "text": [
            "0.0009827000000015573\n"
          ]
        }
      ]
    },
    {
      "cell_type": "code",
      "source": [
        "np_array = np.array([i for i in range(10000)])\n",
        "\n",
        "start_time = process_time()\n",
        "\n",
        "np_array += 5\n",
        "\n",
        "end_time = process_time()\n",
        "\n",
        "print(end_time - start_time)"
      ],
      "metadata": {
        "colab": {
          "base_uri": "https://localhost:8080/"
        },
        "id": "Ho1tD3DOVmDC",
        "outputId": "d7c2332c-7013-473b-a083-11b6f67358c7"
      },
      "execution_count": 60,
      "outputs": [
        {
          "output_type": "stream",
          "name": "stdout",
          "text": [
            "0.0003328010000060999\n"
          ]
        }
      ]
    },
    {
      "cell_type": "markdown",
      "source": [
        "Numpy Array"
      ],
      "metadata": {
        "id": "DadlCwoMWbrh"
      }
    },
    {
      "cell_type": "code",
      "source": [
        "list1 = [1,2,3,4,5,6]\n",
        "\n",
        "print(list1)\n",
        "\n",
        "type(list1)"
      ],
      "metadata": {
        "colab": {
          "base_uri": "https://localhost:8080/"
        },
        "id": "figySAiLWCLA",
        "outputId": "8cd505ed-a8a1-44d7-cdee-2b8c1bea3f26"
      },
      "execution_count": 61,
      "outputs": [
        {
          "output_type": "stream",
          "name": "stdout",
          "text": [
            "[1, 2, 3, 4, 5, 6]\n"
          ]
        },
        {
          "output_type": "execute_result",
          "data": {
            "text/plain": [
              "list"
            ]
          },
          "metadata": {},
          "execution_count": 61
        }
      ]
    },
    {
      "cell_type": "code",
      "source": [
        "np_array = np.array([1,2,3,4,5,6,7])\n",
        "print(np_array)\n",
        "type(np_array)"
      ],
      "metadata": {
        "colab": {
          "base_uri": "https://localhost:8080/"
        },
        "id": "fNr07dbDYhTq",
        "outputId": "b76f15a3-2b7a-4365-8c8c-85b3217b8b96"
      },
      "execution_count": 62,
      "outputs": [
        {
          "output_type": "stream",
          "name": "stdout",
          "text": [
            "[1 2 3 4 5 6 7]\n"
          ]
        },
        {
          "output_type": "execute_result",
          "data": {
            "text/plain": [
              "numpy.ndarray"
            ]
          },
          "metadata": {},
          "execution_count": 62
        }
      ]
    },
    {
      "cell_type": "code",
      "source": [
        "a = np.array([1,2,3,4,5])\n",
        "print(a)"
      ],
      "metadata": {
        "colab": {
          "base_uri": "https://localhost:8080/"
        },
        "id": "wjBs-O77Ytcr",
        "outputId": "6bab25b8-8b59-4953-826e-19dafe9eacf8"
      },
      "execution_count": 63,
      "outputs": [
        {
          "output_type": "stream",
          "name": "stdout",
          "text": [
            "[1 2 3 4 5]\n"
          ]
        }
      ]
    },
    {
      "cell_type": "code",
      "source": [
        "\n",
        "a.shape #show the number of columns and rows"
      ],
      "metadata": {
        "colab": {
          "base_uri": "https://localhost:8080/"
        },
        "id": "lpUlzE0gdLa3",
        "outputId": "8f6adbdf-100e-4e2b-8fee-766fc0f7ca02"
      },
      "execution_count": 64,
      "outputs": [
        {
          "output_type": "execute_result",
          "data": {
            "text/plain": [
              "(5,)"
            ]
          },
          "metadata": {},
          "execution_count": 64
        }
      ]
    },
    {
      "cell_type": "code",
      "source": [
        "#create 2D array\n",
        "b = np.array([(1,2,3,4,5),(6,7,8,9,10)])\n",
        "print(b)"
      ],
      "metadata": {
        "colab": {
          "base_uri": "https://localhost:8080/"
        },
        "id": "3zUcSt5rdM_B",
        "outputId": "6916c49b-8952-4c2a-81de-da46aabe26eb"
      },
      "execution_count": 65,
      "outputs": [
        {
          "output_type": "stream",
          "name": "stdout",
          "text": [
            "[[ 1  2  3  4  5]\n",
            " [ 6  7  8  9 10]]\n"
          ]
        }
      ]
    },
    {
      "cell_type": "code",
      "source": [
        "b.shape"
      ],
      "metadata": {
        "colab": {
          "base_uri": "https://localhost:8080/"
        },
        "id": "GmstNF--dkUM",
        "outputId": "9888ed76-6f5e-4554-f220-a428c79138ca"
      },
      "execution_count": 66,
      "outputs": [
        {
          "output_type": "execute_result",
          "data": {
            "text/plain": [
              "(2, 5)"
            ]
          },
          "metadata": {},
          "execution_count": 66
        }
      ]
    },
    {
      "cell_type": "code",
      "source": [
        "c = np.array([(1,2,3,4,5),(6,7,8,9,10)],dtype=float)\n",
        "print(c)"
      ],
      "metadata": {
        "colab": {
          "base_uri": "https://localhost:8080/"
        },
        "id": "VOudOWRudl36",
        "outputId": "16e49560-5e41-48b9-8988-35fae0d17919"
      },
      "execution_count": 67,
      "outputs": [
        {
          "output_type": "stream",
          "name": "stdout",
          "text": [
            "[[ 1.  2.  3.  4.  5.]\n",
            " [ 6.  7.  8.  9. 10.]]\n"
          ]
        }
      ]
    },
    {
      "cell_type": "code",
      "source": [
        "#Create a numpy array as Zeros\n",
        "\n",
        "x = np.zeros((4,5))\n",
        "print(x)"
      ],
      "metadata": {
        "colab": {
          "base_uri": "https://localhost:8080/"
        },
        "id": "i67Oi-R9d3eZ",
        "outputId": "f62868f0-d4ab-42b6-a061-306a3036cf16"
      },
      "execution_count": 68,
      "outputs": [
        {
          "output_type": "stream",
          "name": "stdout",
          "text": [
            "[[0. 0. 0. 0. 0.]\n",
            " [0. 0. 0. 0. 0.]\n",
            " [0. 0. 0. 0. 0.]\n",
            " [0. 0. 0. 0. 0.]]\n"
          ]
        }
      ]
    },
    {
      "cell_type": "code",
      "source": [
        "#Create a numpy array as ones\n",
        "\n",
        "y = np.ones((4,5))\n",
        "print(y)"
      ],
      "metadata": {
        "colab": {
          "base_uri": "https://localhost:8080/"
        },
        "id": "QAwJoh6NfG-x",
        "outputId": "e5680434-102b-4d12-b8ad-52f45b27ce8e"
      },
      "execution_count": 69,
      "outputs": [
        {
          "output_type": "stream",
          "name": "stdout",
          "text": [
            "[[1. 1. 1. 1. 1.]\n",
            " [1. 1. 1. 1. 1.]\n",
            " [1. 1. 1. 1. 1.]\n",
            " [1. 1. 1. 1. 1.]]\n"
          ]
        }
      ]
    },
    {
      "cell_type": "code",
      "source": [
        "#Create a numpy array as values\n",
        "\n",
        "z = np.full((4,5),6)\n",
        "print(z)"
      ],
      "metadata": {
        "colab": {
          "base_uri": "https://localhost:8080/"
        },
        "id": "Gnjv_RRmfZDF",
        "outputId": "648dff53-b2b0-47b2-80ae-d1d7fde602e4"
      },
      "execution_count": 70,
      "outputs": [
        {
          "output_type": "stream",
          "name": "stdout",
          "text": [
            "[[6 6 6 6 6]\n",
            " [6 6 6 6 6]\n",
            " [6 6 6 6 6]\n",
            " [6 6 6 6 6]]\n"
          ]
        }
      ]
    },
    {
      "cell_type": "code",
      "source": [
        "#Create a numpy array as Zeros\n",
        "\n",
        "identical = np.eye(5)\n",
        "print(identical)"
      ],
      "metadata": {
        "colab": {
          "base_uri": "https://localhost:8080/"
        },
        "id": "Jn7fMwIvfsn9",
        "outputId": "366ba91b-45b3-4f39-8620-c0b28bfbe380"
      },
      "execution_count": 71,
      "outputs": [
        {
          "output_type": "stream",
          "name": "stdout",
          "text": [
            "[[1. 0. 0. 0. 0.]\n",
            " [0. 1. 0. 0. 0.]\n",
            " [0. 0. 1. 0. 0.]\n",
            " [0. 0. 0. 1. 0.]\n",
            " [0. 0. 0. 0. 1.]]\n"
          ]
        }
      ]
    },
    {
      "cell_type": "code",
      "source": [
        "#create random array element\n",
        "random = np.random.random((4,5))\n",
        "print(random)"
      ],
      "metadata": {
        "colab": {
          "base_uri": "https://localhost:8080/"
        },
        "id": "mBv8CaWuf9ej",
        "outputId": "0bc35b13-29a6-4a01-feae-56b0e0ca3c42"
      },
      "execution_count": 72,
      "outputs": [
        {
          "output_type": "stream",
          "name": "stdout",
          "text": [
            "[[0.09695894 0.73942591 0.83464768 0.23578727 0.93475283]\n",
            " [0.85844932 0.87516856 0.99243723 0.77693368 0.18781096]\n",
            " [0.77451056 0.11317537 0.75140066 0.74360789 0.70185051]\n",
            " [0.61965524 0.78436292 0.2768273  0.40868556 0.48970255]]\n"
          ]
        }
      ]
    },
    {
      "cell_type": "code",
      "source": [
        "#create random int array element\n",
        "random = np.random.randint(10,1000,(4,5))\n",
        "print(random)"
      ],
      "metadata": {
        "colab": {
          "base_uri": "https://localhost:8080/"
        },
        "id": "L0k2_l1JitjW",
        "outputId": "8ff924a6-ef71-40e0-cf43-2fa6b8325cf4"
      },
      "execution_count": 73,
      "outputs": [
        {
          "output_type": "stream",
          "name": "stdout",
          "text": [
            "[[844 549 408 107 471]\n",
            " [814 208 651 638 426]\n",
            " [518 618 627 531 381]\n",
            " [127 990 775 964 677]]\n"
          ]
        }
      ]
    },
    {
      "cell_type": "code",
      "source": [
        "#create random array element in a range with size\n",
        "space = np.linspace(10,30,6)\n",
        "print(space)"
      ],
      "metadata": {
        "colab": {
          "base_uri": "https://localhost:8080/"
        },
        "id": "0JDcQZoqjQ80",
        "outputId": "4ae631fc-204a-49d2-f640-b3995be2b553"
      },
      "execution_count": 74,
      "outputs": [
        {
          "output_type": "stream",
          "name": "stdout",
          "text": [
            "[10. 14. 18. 22. 26. 30.]\n"
          ]
        }
      ]
    },
    {
      "cell_type": "code",
      "source": [
        "#create random array element in a range with equal space\n",
        "evenspace = np.arange(10,500,9)\n",
        "print(evenspace)"
      ],
      "metadata": {
        "colab": {
          "base_uri": "https://localhost:8080/"
        },
        "id": "LfOXYhSYj93s",
        "outputId": "ca729d63-75a7-4fa2-d3e6-f6c48cbfa77e"
      },
      "execution_count": 75,
      "outputs": [
        {
          "output_type": "stream",
          "name": "stdout",
          "text": [
            "[ 10  19  28  37  46  55  64  73  82  91 100 109 118 127 136 145 154 163\n",
            " 172 181 190 199 208 217 226 235 244 253 262 271 280 289 298 307 316 325\n",
            " 334 343 352 361 370 379 388 397 406 415 424 433 442 451 460 469 478 487\n",
            " 496]\n"
          ]
        }
      ]
    },
    {
      "cell_type": "code",
      "source": [
        "#convert a list into a numpy\n",
        "list2 = [1,2,3,4,5,6,7,8,9]\n",
        "\n",
        "np_array = np.asarray(list2)\n",
        "print(np_array)\n",
        "type(np_array)"
      ],
      "metadata": {
        "colab": {
          "base_uri": "https://localhost:8080/"
        },
        "id": "tih3lzKLkcxW",
        "outputId": "61fbf56f-e7e9-4195-f25c-5de308205be7"
      },
      "execution_count": 76,
      "outputs": [
        {
          "output_type": "stream",
          "name": "stdout",
          "text": [
            "[1 2 3 4 5 6 7 8 9]\n"
          ]
        },
        {
          "output_type": "execute_result",
          "data": {
            "text/plain": [
              "numpy.ndarray"
            ]
          },
          "metadata": {},
          "execution_count": 76
        }
      ]
    },
    {
      "cell_type": "code",
      "source": [
        "array = np.random.randint(10,50,(6,5))\n",
        "print(array)"
      ],
      "metadata": {
        "colab": {
          "base_uri": "https://localhost:8080/"
        },
        "id": "hv3Un6vzlNU0",
        "outputId": "626392bb-4f3c-4b6b-a759-7e96e1980e78"
      },
      "execution_count": 77,
      "outputs": [
        {
          "output_type": "stream",
          "name": "stdout",
          "text": [
            "[[39 42 38 30 20]\n",
            " [39 23 30 19 46]\n",
            " [27 23 29 32 39]\n",
            " [22 14 26 36 18]\n",
            " [46 14 32 18 46]\n",
            " [22 16 29 13 31]]\n"
          ]
        }
      ]
    },
    {
      "cell_type": "code",
      "source": [
        "print(array.ndim) #shows the dimension"
      ],
      "metadata": {
        "colab": {
          "base_uri": "https://localhost:8080/"
        },
        "id": "RaXwKGTlmH92",
        "outputId": "68fe7e6c-6123-4561-e421-127e6dd08c24"
      },
      "execution_count": 78,
      "outputs": [
        {
          "output_type": "stream",
          "name": "stdout",
          "text": [
            "2\n"
          ]
        }
      ]
    },
    {
      "cell_type": "code",
      "source": [
        "print(array.size) #shows array size"
      ],
      "metadata": {
        "colab": {
          "base_uri": "https://localhost:8080/"
        },
        "id": "8c0kxI3kmKYS",
        "outputId": "861605c8-920f-4301-9538-269473407c33"
      },
      "execution_count": 79,
      "outputs": [
        {
          "output_type": "stream",
          "name": "stdout",
          "text": [
            "30\n"
          ]
        }
      ]
    },
    {
      "cell_type": "code",
      "source": [
        "print(array.shape) #shows number of rows and column"
      ],
      "metadata": {
        "colab": {
          "base_uri": "https://localhost:8080/"
        },
        "id": "Wq8GzRTJmMSL",
        "outputId": "097cf811-ef6c-4663-b142-acccca2ec430"
      },
      "execution_count": 80,
      "outputs": [
        {
          "output_type": "stream",
          "name": "stdout",
          "text": [
            "(6, 5)\n"
          ]
        }
      ]
    },
    {
      "cell_type": "code",
      "source": [
        "print(array.dtype) #shows the type of the elements"
      ],
      "metadata": {
        "colab": {
          "base_uri": "https://localhost:8080/"
        },
        "id": "FpZS1SR-mPEC",
        "outputId": "40296942-67d2-422c-ee3e-c8514b50f5ed"
      },
      "execution_count": 81,
      "outputs": [
        {
          "output_type": "stream",
          "name": "stdout",
          "text": [
            "int64\n"
          ]
        }
      ]
    },
    {
      "cell_type": "code",
      "source": [
        "a = np.random.randint(0,10,(4,5))\n",
        "b = np.random.randint(0,10,(4,5))"
      ],
      "metadata": {
        "id": "ZSZfQxlNmdKk"
      },
      "execution_count": 82,
      "outputs": []
    },
    {
      "cell_type": "code",
      "source": [
        "print(a)\n",
        "print(b)"
      ],
      "metadata": {
        "colab": {
          "base_uri": "https://localhost:8080/"
        },
        "id": "NJdouF9cnoGk",
        "outputId": "41222fef-2c17-40ad-8e41-5eb10345a569"
      },
      "execution_count": 83,
      "outputs": [
        {
          "output_type": "stream",
          "name": "stdout",
          "text": [
            "[[7 2 7 6 3]\n",
            " [9 8 8 0 7]\n",
            " [0 3 4 3 6]\n",
            " [1 6 3 0 0]]\n",
            "[[0 6 1 4 9]\n",
            " [4 2 0 8 0]\n",
            " [0 6 2 3 5]\n",
            " [1 7 1 1 9]]\n"
          ]
        }
      ]
    },
    {
      "cell_type": "code",
      "source": [
        "#maths operation on the array in numpy\n",
        "print(a+b)\n",
        "print(a-b)\n",
        "print(a*b)\n",
        "print(a/b)"
      ],
      "metadata": {
        "colab": {
          "base_uri": "https://localhost:8080/"
        },
        "id": "G3nrh2SFnqSq",
        "outputId": "e1d0c9ee-e315-4b0e-baf3-1697d1348a60"
      },
      "execution_count": 84,
      "outputs": [
        {
          "output_type": "stream",
          "name": "stdout",
          "text": [
            "[[ 7  8  8 10 12]\n",
            " [13 10  8  8  7]\n",
            " [ 0  9  6  6 11]\n",
            " [ 2 13  4  1  9]]\n",
            "[[ 7 -4  6  2 -6]\n",
            " [ 5  6  8 -8  7]\n",
            " [ 0 -3  2  0  1]\n",
            " [ 0 -1  2 -1 -9]]\n",
            "[[ 0 12  7 24 27]\n",
            " [36 16  0  0  0]\n",
            " [ 0 18  8  9 30]\n",
            " [ 1 42  3  0  0]]\n",
            "[[       inf 0.33333333 7.         1.5        0.33333333]\n",
            " [2.25       4.                inf 0.                inf]\n",
            " [       nan 0.5        2.         1.         1.2       ]\n",
            " [1.         0.85714286 3.         0.         0.        ]]\n"
          ]
        },
        {
          "output_type": "stream",
          "name": "stderr",
          "text": [
            "<ipython-input-84-4cf84e0fcb1d>:5: RuntimeWarning: divide by zero encountered in divide\n",
            "  print(a/b)\n",
            "<ipython-input-84-4cf84e0fcb1d>:5: RuntimeWarning: invalid value encountered in divide\n",
            "  print(a/b)\n"
          ]
        }
      ]
    },
    {
      "cell_type": "code",
      "source": [
        "array = np.random.randint(0,10,(3,4))\n",
        "print(array)\n",
        "print(array.shape)"
      ],
      "metadata": {
        "colab": {
          "base_uri": "https://localhost:8080/"
        },
        "id": "vaBloeCNnsdh",
        "outputId": "e290c155-d71a-4861-9e9f-b15a613c0987"
      },
      "execution_count": 87,
      "outputs": [
        {
          "output_type": "stream",
          "name": "stdout",
          "text": [
            "[[6 3 0 3]\n",
            " [2 0 4 3]\n",
            " [1 6 5 9]]\n",
            "(3, 4)\n"
          ]
        }
      ]
    },
    {
      "cell_type": "code",
      "source": [
        "#transpose of array\n",
        "\n",
        "trans = np.transpose(array)\n",
        "print(trans)\n",
        "print(trans.shape)"
      ],
      "metadata": {
        "colab": {
          "base_uri": "https://localhost:8080/"
        },
        "id": "qaRBtahl3E7y",
        "outputId": "cfcdb3a9-17ce-492b-d8b7-008494b30c3b"
      },
      "execution_count": 88,
      "outputs": [
        {
          "output_type": "stream",
          "name": "stdout",
          "text": [
            "[[6 2 1]\n",
            " [3 0 6]\n",
            " [0 4 5]\n",
            " [3 3 9]]\n",
            "(4, 3)\n"
          ]
        }
      ]
    },
    {
      "cell_type": "code",
      "source": [
        "trans2 = array.T\n",
        "print(trans2)"
      ],
      "metadata": {
        "colab": {
          "base_uri": "https://localhost:8080/"
        },
        "id": "lr2dx4V6_NTn",
        "outputId": "3a554010-7c88-4772-aef3-beead83cd305"
      },
      "execution_count": 89,
      "outputs": [
        {
          "output_type": "stream",
          "name": "stdout",
          "text": [
            "[[6 2 1]\n",
            " [3 0 6]\n",
            " [0 4 5]\n",
            " [3 3 9]]\n"
          ]
        }
      ]
    },
    {
      "cell_type": "code",
      "source": [
        "array = np.random.randint(10,20,(5,4))\n",
        "print(array)\n",
        "print(array.shape)"
      ],
      "metadata": {
        "colab": {
          "base_uri": "https://localhost:8080/"
        },
        "id": "ljs4-5rMHUm4",
        "outputId": "1237364b-9595-4155-cfc1-2e8544ca1180"
      },
      "execution_count": 92,
      "outputs": [
        {
          "output_type": "stream",
          "name": "stdout",
          "text": [
            "[[13 14 12 12]\n",
            " [16 19 13 10]\n",
            " [19 15 10 14]\n",
            " [15 14 19 18]\n",
            " [18 11 11 16]]\n",
            "(5, 4)\n"
          ]
        }
      ]
    },
    {
      "cell_type": "code",
      "source": [
        "array2 = np.reshape(array,(4,5))\n",
        "print(array2)\n",
        "print(array2.shape)"
      ],
      "metadata": {
        "colab": {
          "base_uri": "https://localhost:8080/"
        },
        "id": "Q0CHvV0sHvna",
        "outputId": "5a5de48f-6964-4bef-81c7-f63be735d5e6"
      },
      "execution_count": 93,
      "outputs": [
        {
          "output_type": "stream",
          "name": "stdout",
          "text": [
            "[[13 14 12 12 16]\n",
            " [19 13 10 19 15]\n",
            " [10 14 15 14 19]\n",
            " [18 18 11 11 16]]\n",
            "(4, 5)\n"
          ]
        }
      ]
    },
    {
      "cell_type": "code",
      "source": [],
      "metadata": {
        "id": "-fUzaw6GH30_"
      },
      "execution_count": null,
      "outputs": []
    }
  ]
}